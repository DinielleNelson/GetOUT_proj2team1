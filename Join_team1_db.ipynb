{
 "cells": [
  {
   "cell_type": "code",
   "execution_count": null,
   "metadata": {},
   "outputs": [],
   "source": [
    "import sqlite3\n",
    "import pandas as pd\n",
    "from pandas import DataFrame\n",
    "\n",
    "# Import dataframe variables from python if can't pull from jupyter notebooks\n",
    "from python_jupyter_file1 import df1 #CREW\n",
    "from python_jupyter_file2 import df2 #FLIGHTS\n",
    "from python_jupyter_file3 import df3 #SHIPS\n",
    "\n",
    "#Make Connection\n",
    "conn = sqlite3.connect('Team1_db.db')  \n",
    "c = conn.cursor()\n",
    "\n",
    "\n",
    "df1.to_sql('CREW', conn, if_exists='append', index = False)\n",
    "df12.to_sql('FLIGHTS', conn, if_exists='append', index = False)\n",
    "df3.to_sql('SHIPS', conn, if_exists='append', index = False)\n"
   ]
  },
  {
   "cell_type": "code",
   "execution_count": null,
   "metadata": {},
   "outputs": [],
   "source": [
    "# New SQLite Table"
   ]
  },
  {
   "cell_type": "code",
   "execution_count": null,
   "metadata": {},
   "outputs": [],
   "source": [
    "# Populate with joined tables"
   ]
  },
  {
   "cell_type": "code",
   "execution_count": null,
   "metadata": {},
   "outputs": [],
   "source": [
    "# Replace name values with table IDs"
   ]
  }
 ],
 "metadata": {
  "kernelspec": {
   "display_name": "Python [conda env:PythonData2]",
   "language": "python",
   "name": "conda-env-PythonData2-py"
  },
  "language_info": {
   "codemirror_mode": {
    "name": "ipython",
    "version": 3
   },
   "file_extension": ".py",
   "mimetype": "text/x-python",
   "name": "python",
   "nbconvert_exporter": "python",
   "pygments_lexer": "ipython3",
   "version": "3.6.7"
  }
 },
 "nbformat": 4,
 "nbformat_minor": 2
}
